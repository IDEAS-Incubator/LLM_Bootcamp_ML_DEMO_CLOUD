{
  "nbformat": 4,
  "nbformat_minor": 0,
  "metadata": {
    "colab": {
      "provenance": []
    },
    "kernelspec": {
      "name": "python3",
      "display_name": "Python 3"
    },
    "language_info": {
      "name": "python"
    }
  },
  "cells": [
    {
      "cell_type": "markdown",
      "source": [
        "# Spark K-MeansClustering Demo\n",
        "\n",
        "\n",
        "Run the colab Demo :  [![Open In Colab](https://colab.research.google.com/assets/colab-badge.svg)](https://colab.research.google.com/drive/1GuLkMWvxZQTlfVEPcsv-OwZ4rgFJ2MiT?usp=sharing)\n",
        "\n"
      ],
      "metadata": {
        "id": "4iuHKwgNBUd1"
      }
    },
    {
      "cell_type": "markdown",
      "source": [
        "## Setup Spark in Colab"
      ],
      "metadata": {
        "id": "t77X_r1nCM2y"
      }
    },
    {
      "cell_type": "code",
      "source": [
        "# Install Java, Spark 3.3.2 and py4j\n",
        "!apt-get install openjdk-11-jdk -qq > /dev/null\n",
        "!wget -q https://archive.apache.org/dist/spark/spark-3.3.2/spark-3.3.2-bin-hadoop3.tgz\n",
        "!tar xf spark-3.3.2-bin-hadoop3.tgz\n",
        "!pip install -q findspark\n"
      ],
      "metadata": {
        "id": "09NtauhsA8pv"
      },
      "execution_count": 1,
      "outputs": []
    },
    {
      "cell_type": "code",
      "source": [
        "# Set environment variables\n",
        "import os\n",
        "os.environ[\"JAVA_HOME\"] = \"/usr/lib/jvm/java-11-openjdk-amd64\"\n",
        "os.environ[\"SPARK_HOME\"] = \"/content/spark-3.3.2-bin-hadoop3\"\n"
      ],
      "metadata": {
        "id": "PkWTQdDTBRfi"
      },
      "execution_count": 2,
      "outputs": []
    },
    {
      "cell_type": "code",
      "execution_count": 3,
      "metadata": {
        "colab": {
          "base_uri": "https://localhost:8080/"
        },
        "id": "at7v93rjAUWz",
        "outputId": "6193c974-446b-41dd-9990-8e308e6e9770"
      },
      "outputs": [
        {
          "output_type": "stream",
          "name": "stdout",
          "text": [
            "Spark Session started successfully!\n"
          ]
        }
      ],
      "source": [
        "#  Initialize Spark\n",
        "import findspark\n",
        "findspark.init()\n",
        "\n",
        "from pyspark.sql import SparkSession\n",
        "\n",
        "spark = SparkSession.builder \\\n",
        "    .appName(\"Colab Spark MLlib Setup\") \\\n",
        "    .getOrCreate()\n",
        "\n",
        "print(\"Spark Session started successfully!\")\n"
      ]
    },
    {
      "cell_type": "markdown",
      "source": [
        "\n",
        "# Load the Iris Dataset"
      ],
      "metadata": {
        "id": "E2WdTq5ZCV1s"
      }
    },
    {
      "cell_type": "code",
      "source": [
        "# Download and load the Iris dataset\n",
        "!wget -q https://archive.ics.uci.edu/ml/machine-learning-databases/iris/iris.data -O iris.csv\n"
      ],
      "metadata": {
        "id": "KE8lX-T3CT--"
      },
      "execution_count": 4,
      "outputs": []
    },
    {
      "cell_type": "code",
      "source": [
        "# Load with labels\n",
        "df = spark.read.csv(\"iris.csv\", inferSchema=True, header=False)\n",
        "df = df.toDF(\"sepal_length\", \"sepal_width\", \"petal_length\", \"petal_width\", \"label\")\n",
        "df.show(5)\n"
      ],
      "metadata": {
        "colab": {
          "base_uri": "https://localhost:8080/"
        },
        "id": "ZEyLyU9XCac6",
        "outputId": "48af160b-b95d-4e83-dd70-ffb9f1908993"
      },
      "execution_count": 5,
      "outputs": [
        {
          "output_type": "stream",
          "name": "stdout",
          "text": [
            "+------------+-----------+------------+-----------+-----------+\n",
            "|sepal_length|sepal_width|petal_length|petal_width|      label|\n",
            "+------------+-----------+------------+-----------+-----------+\n",
            "|         5.1|        3.5|         1.4|        0.2|Iris-setosa|\n",
            "|         4.9|        3.0|         1.4|        0.2|Iris-setosa|\n",
            "|         4.7|        3.2|         1.3|        0.2|Iris-setosa|\n",
            "|         4.6|        3.1|         1.5|        0.2|Iris-setosa|\n",
            "|         5.0|        3.6|         1.4|        0.2|Iris-setosa|\n",
            "+------------+-----------+------------+-----------+-----------+\n",
            "only showing top 5 rows\n",
            "\n"
          ]
        }
      ]
    },
    {
      "cell_type": "code",
      "source": [
        "# Assemble features\n",
        "from pyspark.ml.feature import VectorAssembler\n",
        "\n",
        "assembler = VectorAssembler(\n",
        "    inputCols=[\"sepal_length\", \"sepal_width\", \"petal_length\", \"petal_width\"],\n",
        "    outputCol=\"features\"\n",
        ")\n",
        "df = assembler.transform(df)"
      ],
      "metadata": {
        "id": "y1LFqp4uAAIl"
      },
      "execution_count": 6,
      "outputs": []
    },
    {
      "cell_type": "markdown",
      "source": [
        "#Train Model"
      ],
      "metadata": {
        "id": "-6AatMOoC0mm"
      }
    },
    {
      "cell_type": "code",
      "source": [
        "# Train KMeans model\n",
        "from pyspark.ml.clustering import KMeans\n",
        "\n",
        "kmeans = KMeans(featuresCol=\"features\", k=3, seed=1)\n",
        "model = kmeans.fit(df)\n",
        "\n",
        "print(\" Model trained. Cluster centers:\")\n",
        "for center in model.clusterCenters():\n",
        "    print(center)\n"
      ],
      "metadata": {
        "id": "KHf-iqx7CwG1",
        "colab": {
          "base_uri": "https://localhost:8080/"
        },
        "outputId": "c1024f7b-393d-48eb-e4e9-8c85b96a92d8"
      },
      "execution_count": 7,
      "outputs": [
        {
          "output_type": "stream",
          "name": "stdout",
          "text": [
            " Model trained. Cluster centers:\n",
            "[5.9016129  2.7483871  4.39354839 1.43387097]\n",
            "[5.006 3.418 1.464 0.244]\n",
            "[6.85       3.07368421 5.74210526 2.07105263]\n"
          ]
        }
      ]
    },
    {
      "cell_type": "code",
      "source": [
        "# Make predictions\n",
        "predictions = model.transform(df)\n",
        "predictions.select(\"features\", \"label\", \"prediction\").show(10)\n"
      ],
      "metadata": {
        "colab": {
          "base_uri": "https://localhost:8080/"
        },
        "id": "O_VqKIZfASEM",
        "outputId": "43a85061-11b0-43a9-ef03-87a80fcb162b"
      },
      "execution_count": 8,
      "outputs": [
        {
          "output_type": "stream",
          "name": "stdout",
          "text": [
            "+-----------------+-----------+----------+\n",
            "|         features|      label|prediction|\n",
            "+-----------------+-----------+----------+\n",
            "|[5.1,3.5,1.4,0.2]|Iris-setosa|         1|\n",
            "|[4.9,3.0,1.4,0.2]|Iris-setosa|         1|\n",
            "|[4.7,3.2,1.3,0.2]|Iris-setosa|         1|\n",
            "|[4.6,3.1,1.5,0.2]|Iris-setosa|         1|\n",
            "|[5.0,3.6,1.4,0.2]|Iris-setosa|         1|\n",
            "|[5.4,3.9,1.7,0.4]|Iris-setosa|         1|\n",
            "|[4.6,3.4,1.4,0.3]|Iris-setosa|         1|\n",
            "|[5.0,3.4,1.5,0.2]|Iris-setosa|         1|\n",
            "|[4.4,2.9,1.4,0.2]|Iris-setosa|         1|\n",
            "|[4.9,3.1,1.5,0.1]|Iris-setosa|         1|\n",
            "+-----------------+-----------+----------+\n",
            "only showing top 10 rows\n",
            "\n"
          ]
        }
      ]
    },
    {
      "cell_type": "markdown",
      "source": [
        "# Evaluate"
      ],
      "metadata": {
        "id": "WeeH_GPNC7bO"
      }
    },
    {
      "cell_type": "code",
      "source": [
        "# Evaluate Clustering\n",
        "from pyspark.ml.evaluation import ClusteringEvaluator\n",
        "\n",
        "# Silhouette Score\n",
        "evaluator = ClusteringEvaluator(featuresCol=\"features\", predictionCol=\"prediction\", metricName=\"silhouette\")\n",
        "silhouette = evaluator.evaluate(predictions)\n",
        "\n",
        "# WSSSE (Sum of Squared Errors)\n",
        "wssse = model.summary.trainingCost\n",
        "\n",
        "print(\"\\nK-Means Evaluation Metrics:\")\n",
        "print(f\"Silhouette Score : {silhouette:.2f}\")\n",
        "print(f\"WSSSE            : {wssse:.2f}\")\n"
      ],
      "metadata": {
        "colab": {
          "base_uri": "https://localhost:8080/"
        },
        "id": "6KW_HDnxC8uJ",
        "outputId": "b490ca87-8f8c-4cc5-dc79-da8d34f8ffec"
      },
      "execution_count": 9,
      "outputs": [
        {
          "output_type": "stream",
          "name": "stdout",
          "text": [
            "\n",
            "K-Means Evaluation Metrics:\n",
            "Silhouette Score : 0.74\n",
            "WSSSE            : 78.94\n"
          ]
        }
      ]
    },
    {
      "cell_type": "code",
      "source": [
        "# Cluster Sizes\n",
        "print(\"\\n Cluster Sizes:\")\n",
        "predictions.groupBy(\"prediction\").count().show()\n"
      ],
      "metadata": {
        "colab": {
          "base_uri": "https://localhost:8080/"
        },
        "id": "dzYK8Ta3Au-l",
        "outputId": "c8b99880-8cf5-44d1-fbfe-760ec416aa6e"
      },
      "execution_count": 10,
      "outputs": [
        {
          "output_type": "stream",
          "name": "stdout",
          "text": [
            "\n",
            " Cluster Sizes:\n",
            "+----------+-----+\n",
            "|prediction|count|\n",
            "+----------+-----+\n",
            "|         1|   50|\n",
            "|         2|   38|\n",
            "|         0|   62|\n",
            "+----------+-----+\n",
            "\n"
          ]
        }
      ]
    },
    {
      "cell_type": "code",
      "source": [
        "# Compare with real labels\n",
        "print(\"\\n Cluster Prediction vs Real Label:\")\n",
        "predictions.groupBy(\"label\", \"prediction\").count().orderBy(\"label\").show(20)\n"
      ],
      "metadata": {
        "colab": {
          "base_uri": "https://localhost:8080/"
        },
        "id": "EovbKOExAx3D",
        "outputId": "e8937bec-8d85-404c-8833-6ed2d056065f"
      },
      "execution_count": 11,
      "outputs": [
        {
          "output_type": "stream",
          "name": "stdout",
          "text": [
            "\n",
            " Cluster Prediction vs Real Label:\n",
            "+---------------+----------+-----+\n",
            "|          label|prediction|count|\n",
            "+---------------+----------+-----+\n",
            "|    Iris-setosa|         1|   50|\n",
            "|Iris-versicolor|         0|   48|\n",
            "|Iris-versicolor|         2|    2|\n",
            "| Iris-virginica|         0|   14|\n",
            "| Iris-virginica|         2|   36|\n",
            "+---------------+----------+-----+\n",
            "\n"
          ]
        }
      ]
    }
  ]
}