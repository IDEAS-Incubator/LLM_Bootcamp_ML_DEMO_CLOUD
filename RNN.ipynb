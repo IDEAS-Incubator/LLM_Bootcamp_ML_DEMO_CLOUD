{
  "nbformat": 4,
  "nbformat_minor": 0,
  "metadata": {
    "colab": {
      "provenance": []
    },
    "kernelspec": {
      "name": "python3",
      "display_name": "Python 3"
    },
    "language_info": {
      "name": "python"
    }
  },
  "cells": [
    {
      "cell_type": "markdown",
      "source": [
        "## RNN DEMO"
      ],
      "metadata": {
        "id": "HpOsICoD1lMC"
      }
    },
    {
      "cell_type": "markdown",
      "source": [
        "Run the colab Demo :  [![Open In Colab](https://colab.research.google.com/assets/colab-badge.svg)](https://colab.research.google.com/drive/1Jp5DilVUx9G_sGi-nGhGVFy9OHOCf1XM?usp=sharing)"
      ],
      "metadata": {
        "id": "wOI1t2ET_5iy"
      }
    },
    {
      "cell_type": "code",
      "source": [
        "!pip install -q numpy tensorflow scikit-learn\n"
      ],
      "metadata": {
        "id": "2cZE3QzG-57q"
      },
      "execution_count": 1,
      "outputs": []
    },
    {
      "cell_type": "code",
      "execution_count": 2,
      "metadata": {
        "id": "_dLykmqhzdZ9"
      },
      "outputs": [],
      "source": [
        "import numpy as np\n",
        "import tensorflow as tf\n",
        "from tensorflow.keras.preprocessing.sequence import pad_sequences\n",
        "from tensorflow.keras.models import Sequential\n",
        "from tensorflow.keras.layers import Embedding, SimpleRNN, Dense, Dropout, BatchNormalization\n",
        "from tensorflow.keras.callbacks import ModelCheckpoint\n",
        "from tensorflow.keras.optimizers import Adam\n",
        "from sklearn.model_selection import train_test_split\n",
        "from sklearn.metrics import classification_report, confusion_matrix, accuracy_score\n"
      ]
    },
    {
      "cell_type": "markdown",
      "source": [
        "## LOAD DATASET"
      ],
      "metadata": {
        "id": "FgVxuM5D1n6L"
      }
    },
    {
      "cell_type": "code",
      "source": [
        "\n",
        "# Set random seed for reproducibility\n",
        "np.random.seed(42)\n",
        "tf.random.set_seed(42)\n",
        "\n",
        "# Download IMDB dataset\n",
        "print(\"Loading dataset...\")\n",
        "(x_train, y_train), (x_test, y_test) = tf.keras.datasets.imdb.load_data(num_words=10000)\n"
      ],
      "metadata": {
        "colab": {
          "base_uri": "https://localhost:8080/"
        },
        "id": "Fz88yaVI0oLH",
        "outputId": "77a0975e-98ee-4f13-e53f-10a3b622ec9f"
      },
      "execution_count": 3,
      "outputs": [
        {
          "output_type": "stream",
          "name": "stdout",
          "text": [
            "Loading dataset...\n",
            "Downloading data from https://storage.googleapis.com/tensorflow/tf-keras-datasets/imdb.npz\n",
            "\u001b[1m17464789/17464789\u001b[0m \u001b[32m━━━━━━━━━━━━━━━━━━━━\u001b[0m\u001b[37m\u001b[0m \u001b[1m0s\u001b[0m 0us/step\n"
          ]
        }
      ]
    },
    {
      "cell_type": "code",
      "source": [
        "\n",
        "# Get word index mapping\n",
        "word_index = tf.keras.datasets.imdb.get_word_index()\n",
        "\n",
        "# Create a reverse mapping to decode the reviews\n",
        "reverse_word_index = {value: key for key, value in word_index.items()}\n",
        "decode_review = lambda review: ' '.join([reverse_word_index.get(i - 3, '?') for i in review])\n",
        "\n"
      ],
      "metadata": {
        "id": "K7XKz0Xv02zv",
        "colab": {
          "base_uri": "https://localhost:8080/"
        },
        "outputId": "b9ac9493-aafc-47c1-a603-b8a18aad7063"
      },
      "execution_count": 4,
      "outputs": [
        {
          "output_type": "stream",
          "name": "stdout",
          "text": [
            "Downloading data from https://storage.googleapis.com/tensorflow/tf-keras-datasets/imdb_word_index.json\n",
            "\u001b[1m1641221/1641221\u001b[0m \u001b[32m━━━━━━━━━━━━━━━━━━━━\u001b[0m\u001b[37m\u001b[0m \u001b[1m0s\u001b[0m 0us/step\n"
          ]
        }
      ]
    },
    {
      "cell_type": "code",
      "source": [
        "# Print sample review\n",
        "print(\"\\nSample review:\")\n",
        "print(decode_review(x_train[0]))\n",
        "print(f\"Label: {'Positive' if y_train[0] == 1 else 'Negative'}\")"
      ],
      "metadata": {
        "colab": {
          "base_uri": "https://localhost:8080/"
        },
        "id": "4_iG8SMM09Xj",
        "outputId": "ac3fbc29-5ed1-4cf6-873f-9c318ad4e85c"
      },
      "execution_count": 5,
      "outputs": [
        {
          "output_type": "stream",
          "name": "stdout",
          "text": [
            "\n",
            "Sample review:\n",
            "? this film was just brilliant casting location scenery story direction everyone's really suited the part they played and you could just imagine being there robert ? is an amazing actor and now the same being director ? father came from the same scottish island as myself so i loved the fact there was a real connection with this film the witty remarks throughout the film were great it was just brilliant so much that i bought the film as soon as it was released for ? and would recommend it to everyone to watch and the fly fishing was amazing really cried at the end it was so sad and you know what they say if you cry at a film it must have been good and this definitely was also ? to the two little boy's that played the ? of norman and paul they were just brilliant children are often left out of the ? list i think because the stars that play them all grown up are such a big profile for the whole film but these children are amazing and should be praised for what they have done don't you think the whole story was so lovely because it was true and was someone's life after all that was shared with us all\n",
            "Label: Positive\n"
          ]
        }
      ]
    },
    {
      "cell_type": "code",
      "source": [
        "#Parameters\n",
        "vocab_size = 10000\n",
        "max_length = 250\n",
        "embedding_dim = 100\n",
        "rnn_units = 128\n",
        "batch_size = 64\n",
        "epochs = 5\n",
        "\n",
        "# Pad sequences\n",
        "print(\"\\nPreparing data...\")\n",
        "x_train = pad_sequences(x_train, maxlen=max_length, padding='post', truncating='post')\n",
        "x_test = pad_sequences(x_test, maxlen=max_length, padding='post', truncating='post')\n",
        "\n",
        "# Print data shapes\n",
        "print(f\"Training data shape: {x_train.shape}\")\n",
        "print(f\"Test data shape: {x_test.shape}\")"
      ],
      "metadata": {
        "colab": {
          "base_uri": "https://localhost:8080/"
        },
        "id": "OTsTrubD0bqw",
        "outputId": "151189bf-9762-4fb9-cf4d-3e17e1c32cd7"
      },
      "execution_count": 6,
      "outputs": [
        {
          "output_type": "stream",
          "name": "stdout",
          "text": [
            "\n",
            "Preparing data...\n",
            "Training data shape: (25000, 250)\n",
            "Test data shape: (25000, 250)\n"
          ]
        }
      ]
    },
    {
      "cell_type": "markdown",
      "source": [
        "## BUILD MODEL"
      ],
      "metadata": {
        "id": "uqJf7l6y18Ad"
      }
    },
    {
      "cell_type": "code",
      "source": [
        "# Create validation split\n",
        "x_train, x_val, y_train, y_val = train_test_split(x_train, y_train, test_size=0.2, random_state=42)\n",
        "print(f\"Validation data shape: {x_val.shape}\")\n",
        "\n",
        "# Build the RNN model\n",
        "print(\"\\nBuilding RNN model...\")\n",
        "model = Sequential([\n",
        "    Embedding(vocab_size, embedding_dim, mask_zero=True),\n",
        "    BatchNormalization(),\n",
        "    SimpleRNN(rnn_units, return_sequences=True,\n",
        "              kernel_initializer='glorot_uniform',\n",
        "              recurrent_initializer='orthogonal'),\n",
        "    BatchNormalization(),\n",
        "    SimpleRNN(rnn_units//2,\n",
        "              kernel_initializer='glorot_uniform',\n",
        "              recurrent_initializer='orthogonal'),\n",
        "    BatchNormalization(),\n",
        "    Dense(64, activation='relu', kernel_initializer='he_normal'),\n",
        "    Dropout(0.3),\n",
        "    Dense(32, activation='relu', kernel_initializer='he_normal'),\n",
        "    Dropout(0.3),\n",
        "    Dense(1, activation='sigmoid')\n",
        "])\n"
      ],
      "metadata": {
        "colab": {
          "base_uri": "https://localhost:8080/"
        },
        "id": "-AsuxyV61J6h",
        "outputId": "2d587cbe-9ce3-4d38-d928-a38f6d05c167"
      },
      "execution_count": 7,
      "outputs": [
        {
          "output_type": "stream",
          "name": "stdout",
          "text": [
            "Validation data shape: (5000, 250)\n",
            "\n",
            "Building RNN model...\n"
          ]
        }
      ]
    },
    {
      "cell_type": "code",
      "source": [
        "# Compile the model with class weights\n",
        "total_samples = len(y_train)\n",
        "pos_samples = np.sum(y_train)\n",
        "neg_samples = total_samples - pos_samples\n",
        "class_weight = {\n",
        "    0: total_samples / (2 * neg_samples),\n",
        "    1: total_samples / (2 * pos_samples)\n",
        "}\n",
        "\n",
        "model.compile(\n",
        "    optimizer=Adam(learning_rate=0.001),\n",
        "    loss='binary_crossentropy',\n",
        "    metrics=['accuracy']\n",
        ")\n",
        "\n",
        "# Model summary\n",
        "model.summary()"
      ],
      "metadata": {
        "colab": {
          "base_uri": "https://localhost:8080/",
          "height": 529
        },
        "id": "HCidCD6m1Kqm",
        "outputId": "ca31fa14-1dd2-46c8-c954-ff4a61bc7f42"
      },
      "execution_count": 8,
      "outputs": [
        {
          "output_type": "display_data",
          "data": {
            "text/plain": [
              "\u001b[1mModel: \"sequential\"\u001b[0m\n"
            ],
            "text/html": [
              "<pre style=\"white-space:pre;overflow-x:auto;line-height:normal;font-family:Menlo,'DejaVu Sans Mono',consolas,'Courier New',monospace\"><span style=\"font-weight: bold\">Model: \"sequential\"</span>\n",
              "</pre>\n"
            ]
          },
          "metadata": {}
        },
        {
          "output_type": "display_data",
          "data": {
            "text/plain": [
              "┏━━━━━━━━━━━━━━━━━━━━━━━━━━━━━━━━━┳━━━━━━━━━━━━━━━━━━━━━━━━┳━━━━━━━━━━━━━━━┓\n",
              "┃\u001b[1m \u001b[0m\u001b[1mLayer (type)                   \u001b[0m\u001b[1m \u001b[0m┃\u001b[1m \u001b[0m\u001b[1mOutput Shape          \u001b[0m\u001b[1m \u001b[0m┃\u001b[1m \u001b[0m\u001b[1m      Param #\u001b[0m\u001b[1m \u001b[0m┃\n",
              "┡━━━━━━━━━━━━━━━━━━━━━━━━━━━━━━━━━╇━━━━━━━━━━━━━━━━━━━━━━━━╇━━━━━━━━━━━━━━━┩\n",
              "│ embedding (\u001b[38;5;33mEmbedding\u001b[0m)           │ ?                      │   \u001b[38;5;34m0\u001b[0m (unbuilt) │\n",
              "├─────────────────────────────────┼────────────────────────┼───────────────┤\n",
              "│ batch_normalization             │ ?                      │   \u001b[38;5;34m0\u001b[0m (unbuilt) │\n",
              "│ (\u001b[38;5;33mBatchNormalization\u001b[0m)            │                        │               │\n",
              "├─────────────────────────────────┼────────────────────────┼───────────────┤\n",
              "│ simple_rnn (\u001b[38;5;33mSimpleRNN\u001b[0m)          │ ?                      │   \u001b[38;5;34m0\u001b[0m (unbuilt) │\n",
              "├─────────────────────────────────┼────────────────────────┼───────────────┤\n",
              "│ batch_normalization_1           │ ?                      │   \u001b[38;5;34m0\u001b[0m (unbuilt) │\n",
              "│ (\u001b[38;5;33mBatchNormalization\u001b[0m)            │                        │               │\n",
              "├─────────────────────────────────┼────────────────────────┼───────────────┤\n",
              "│ simple_rnn_1 (\u001b[38;5;33mSimpleRNN\u001b[0m)        │ ?                      │   \u001b[38;5;34m0\u001b[0m (unbuilt) │\n",
              "├─────────────────────────────────┼────────────────────────┼───────────────┤\n",
              "│ batch_normalization_2           │ ?                      │   \u001b[38;5;34m0\u001b[0m (unbuilt) │\n",
              "│ (\u001b[38;5;33mBatchNormalization\u001b[0m)            │                        │               │\n",
              "├─────────────────────────────────┼────────────────────────┼───────────────┤\n",
              "│ dense (\u001b[38;5;33mDense\u001b[0m)                   │ ?                      │   \u001b[38;5;34m0\u001b[0m (unbuilt) │\n",
              "├─────────────────────────────────┼────────────────────────┼───────────────┤\n",
              "│ dropout (\u001b[38;5;33mDropout\u001b[0m)               │ ?                      │             \u001b[38;5;34m0\u001b[0m │\n",
              "├─────────────────────────────────┼────────────────────────┼───────────────┤\n",
              "│ dense_1 (\u001b[38;5;33mDense\u001b[0m)                 │ ?                      │   \u001b[38;5;34m0\u001b[0m (unbuilt) │\n",
              "├─────────────────────────────────┼────────────────────────┼───────────────┤\n",
              "│ dropout_1 (\u001b[38;5;33mDropout\u001b[0m)             │ ?                      │             \u001b[38;5;34m0\u001b[0m │\n",
              "├─────────────────────────────────┼────────────────────────┼───────────────┤\n",
              "│ dense_2 (\u001b[38;5;33mDense\u001b[0m)                 │ ?                      │   \u001b[38;5;34m0\u001b[0m (unbuilt) │\n",
              "└─────────────────────────────────┴────────────────────────┴───────────────┘\n"
            ],
            "text/html": [
              "<pre style=\"white-space:pre;overflow-x:auto;line-height:normal;font-family:Menlo,'DejaVu Sans Mono',consolas,'Courier New',monospace\">┏━━━━━━━━━━━━━━━━━━━━━━━━━━━━━━━━━┳━━━━━━━━━━━━━━━━━━━━━━━━┳━━━━━━━━━━━━━━━┓\n",
              "┃<span style=\"font-weight: bold\"> Layer (type)                    </span>┃<span style=\"font-weight: bold\"> Output Shape           </span>┃<span style=\"font-weight: bold\">       Param # </span>┃\n",
              "┡━━━━━━━━━━━━━━━━━━━━━━━━━━━━━━━━━╇━━━━━━━━━━━━━━━━━━━━━━━━╇━━━━━━━━━━━━━━━┩\n",
              "│ embedding (<span style=\"color: #0087ff; text-decoration-color: #0087ff\">Embedding</span>)           │ ?                      │   <span style=\"color: #00af00; text-decoration-color: #00af00\">0</span> (unbuilt) │\n",
              "├─────────────────────────────────┼────────────────────────┼───────────────┤\n",
              "│ batch_normalization             │ ?                      │   <span style=\"color: #00af00; text-decoration-color: #00af00\">0</span> (unbuilt) │\n",
              "│ (<span style=\"color: #0087ff; text-decoration-color: #0087ff\">BatchNormalization</span>)            │                        │               │\n",
              "├─────────────────────────────────┼────────────────────────┼───────────────┤\n",
              "│ simple_rnn (<span style=\"color: #0087ff; text-decoration-color: #0087ff\">SimpleRNN</span>)          │ ?                      │   <span style=\"color: #00af00; text-decoration-color: #00af00\">0</span> (unbuilt) │\n",
              "├─────────────────────────────────┼────────────────────────┼───────────────┤\n",
              "│ batch_normalization_1           │ ?                      │   <span style=\"color: #00af00; text-decoration-color: #00af00\">0</span> (unbuilt) │\n",
              "│ (<span style=\"color: #0087ff; text-decoration-color: #0087ff\">BatchNormalization</span>)            │                        │               │\n",
              "├─────────────────────────────────┼────────────────────────┼───────────────┤\n",
              "│ simple_rnn_1 (<span style=\"color: #0087ff; text-decoration-color: #0087ff\">SimpleRNN</span>)        │ ?                      │   <span style=\"color: #00af00; text-decoration-color: #00af00\">0</span> (unbuilt) │\n",
              "├─────────────────────────────────┼────────────────────────┼───────────────┤\n",
              "│ batch_normalization_2           │ ?                      │   <span style=\"color: #00af00; text-decoration-color: #00af00\">0</span> (unbuilt) │\n",
              "│ (<span style=\"color: #0087ff; text-decoration-color: #0087ff\">BatchNormalization</span>)            │                        │               │\n",
              "├─────────────────────────────────┼────────────────────────┼───────────────┤\n",
              "│ dense (<span style=\"color: #0087ff; text-decoration-color: #0087ff\">Dense</span>)                   │ ?                      │   <span style=\"color: #00af00; text-decoration-color: #00af00\">0</span> (unbuilt) │\n",
              "├─────────────────────────────────┼────────────────────────┼───────────────┤\n",
              "│ dropout (<span style=\"color: #0087ff; text-decoration-color: #0087ff\">Dropout</span>)               │ ?                      │             <span style=\"color: #00af00; text-decoration-color: #00af00\">0</span> │\n",
              "├─────────────────────────────────┼────────────────────────┼───────────────┤\n",
              "│ dense_1 (<span style=\"color: #0087ff; text-decoration-color: #0087ff\">Dense</span>)                 │ ?                      │   <span style=\"color: #00af00; text-decoration-color: #00af00\">0</span> (unbuilt) │\n",
              "├─────────────────────────────────┼────────────────────────┼───────────────┤\n",
              "│ dropout_1 (<span style=\"color: #0087ff; text-decoration-color: #0087ff\">Dropout</span>)             │ ?                      │             <span style=\"color: #00af00; text-decoration-color: #00af00\">0</span> │\n",
              "├─────────────────────────────────┼────────────────────────┼───────────────┤\n",
              "│ dense_2 (<span style=\"color: #0087ff; text-decoration-color: #0087ff\">Dense</span>)                 │ ?                      │   <span style=\"color: #00af00; text-decoration-color: #00af00\">0</span> (unbuilt) │\n",
              "└─────────────────────────────────┴────────────────────────┴───────────────┘\n",
              "</pre>\n"
            ]
          },
          "metadata": {}
        },
        {
          "output_type": "display_data",
          "data": {
            "text/plain": [
              "\u001b[1m Total params: \u001b[0m\u001b[38;5;34m0\u001b[0m (0.00 B)\n"
            ],
            "text/html": [
              "<pre style=\"white-space:pre;overflow-x:auto;line-height:normal;font-family:Menlo,'DejaVu Sans Mono',consolas,'Courier New',monospace\"><span style=\"font-weight: bold\"> Total params: </span><span style=\"color: #00af00; text-decoration-color: #00af00\">0</span> (0.00 B)\n",
              "</pre>\n"
            ]
          },
          "metadata": {}
        },
        {
          "output_type": "display_data",
          "data": {
            "text/plain": [
              "\u001b[1m Trainable params: \u001b[0m\u001b[38;5;34m0\u001b[0m (0.00 B)\n"
            ],
            "text/html": [
              "<pre style=\"white-space:pre;overflow-x:auto;line-height:normal;font-family:Menlo,'DejaVu Sans Mono',consolas,'Courier New',monospace\"><span style=\"font-weight: bold\"> Trainable params: </span><span style=\"color: #00af00; text-decoration-color: #00af00\">0</span> (0.00 B)\n",
              "</pre>\n"
            ]
          },
          "metadata": {}
        },
        {
          "output_type": "display_data",
          "data": {
            "text/plain": [
              "\u001b[1m Non-trainable params: \u001b[0m\u001b[38;5;34m0\u001b[0m (0.00 B)\n"
            ],
            "text/html": [
              "<pre style=\"white-space:pre;overflow-x:auto;line-height:normal;font-family:Menlo,'DejaVu Sans Mono',consolas,'Courier New',monospace\"><span style=\"font-weight: bold\"> Non-trainable params: </span><span style=\"color: #00af00; text-decoration-color: #00af00\">0</span> (0.00 B)\n",
              "</pre>\n"
            ]
          },
          "metadata": {}
        }
      ]
    },
    {
      "cell_type": "code",
      "source": [
        "# Define callbacks\n",
        "callbacks = [\n",
        "    ModelCheckpoint(\n",
        "        'best_rnn_model.keras',\n",
        "        monitor='val_accuracy',\n",
        "        save_best_only=True,\n",
        "        verbose=1\n",
        "    )\n",
        "]\n",
        "\n",
        "# Train the model\n",
        "print(\"\\nTraining the model...\")\n",
        "history = model.fit(\n",
        "    x_train, y_train,\n",
        "    validation_data=(x_val, y_val),\n",
        "    epochs=epochs,\n",
        "    batch_size=batch_size,\n",
        "    callbacks=callbacks,\n",
        "    class_weight=class_weight,\n",
        "    verbose=1\n",
        ")\n"
      ],
      "metadata": {
        "colab": {
          "base_uri": "https://localhost:8080/"
        },
        "id": "eNdIWgUC1NRr",
        "outputId": "9e38b5cc-df11-4369-ec0c-1acb5b16b675"
      },
      "execution_count": 9,
      "outputs": [
        {
          "output_type": "stream",
          "name": "stdout",
          "text": [
            "\n",
            "Training the model...\n",
            "Epoch 1/5\n",
            "\u001b[1m313/313\u001b[0m \u001b[32m━━━━━━━━━━━━━━━━━━━━\u001b[0m\u001b[37m\u001b[0m \u001b[1m0s\u001b[0m 382ms/step - accuracy: 0.5170 - loss: 0.8364\n",
            "Epoch 1: val_accuracy improved from -inf to 0.50800, saving model to best_rnn_model.keras\n",
            "\u001b[1m313/313\u001b[0m \u001b[32m━━━━━━━━━━━━━━━━━━━━\u001b[0m\u001b[37m\u001b[0m \u001b[1m140s\u001b[0m 417ms/step - accuracy: 0.5171 - loss: 0.8361 - val_accuracy: 0.5080 - val_loss: 0.7059\n",
            "Epoch 2/5\n",
            "\u001b[1m313/313\u001b[0m \u001b[32m━━━━━━━━━━━━━━━━━━━━\u001b[0m\u001b[37m\u001b[0m \u001b[1m0s\u001b[0m 392ms/step - accuracy: 0.6479 - loss: 0.6279\n",
            "Epoch 2: val_accuracy improved from 0.50800 to 0.53680, saving model to best_rnn_model.keras\n",
            "\u001b[1m313/313\u001b[0m \u001b[32m━━━━━━━━━━━━━━━━━━━━\u001b[0m\u001b[37m\u001b[0m \u001b[1m144s\u001b[0m 425ms/step - accuracy: 0.6480 - loss: 0.6278 - val_accuracy: 0.5368 - val_loss: 0.8923\n",
            "Epoch 3/5\n",
            "\u001b[1m313/313\u001b[0m \u001b[32m━━━━━━━━━━━━━━━━━━━━\u001b[0m\u001b[37m\u001b[0m \u001b[1m0s\u001b[0m 376ms/step - accuracy: 0.7402 - loss: 0.5185\n",
            "Epoch 3: val_accuracy improved from 0.53680 to 0.66780, saving model to best_rnn_model.keras\n",
            "\u001b[1m313/313\u001b[0m \u001b[32m━━━━━━━━━━━━━━━━━━━━\u001b[0m\u001b[37m\u001b[0m \u001b[1m128s\u001b[0m 409ms/step - accuracy: 0.7402 - loss: 0.5185 - val_accuracy: 0.6678 - val_loss: 0.6549\n",
            "Epoch 4/5\n",
            "\u001b[1m313/313\u001b[0m \u001b[32m━━━━━━━━━━━━━━━━━━━━\u001b[0m\u001b[37m\u001b[0m \u001b[1m0s\u001b[0m 404ms/step - accuracy: 0.6985 - loss: 0.5713\n",
            "Epoch 4: val_accuracy did not improve from 0.66780\n",
            "\u001b[1m313/313\u001b[0m \u001b[32m━━━━━━━━━━━━━━━━━━━━\u001b[0m\u001b[37m\u001b[0m \u001b[1m150s\u001b[0m 437ms/step - accuracy: 0.6985 - loss: 0.5713 - val_accuracy: 0.6656 - val_loss: 0.6381\n",
            "Epoch 5/5\n",
            "\u001b[1m313/313\u001b[0m \u001b[32m━━━━━━━━━━━━━━━━━━━━\u001b[0m\u001b[37m\u001b[0m \u001b[1m0s\u001b[0m 390ms/step - accuracy: 0.8012 - loss: 0.4442\n",
            "Epoch 5: val_accuracy improved from 0.66780 to 0.72260, saving model to best_rnn_model.keras\n",
            "\u001b[1m313/313\u001b[0m \u001b[32m━━━━━━━━━━━━━━━━━━━━\u001b[0m\u001b[37m\u001b[0m \u001b[1m138s\u001b[0m 423ms/step - accuracy: 0.8012 - loss: 0.4441 - val_accuracy: 0.7226 - val_loss: 0.6711\n"
          ]
        }
      ]
    },
    {
      "cell_type": "code",
      "source": [
        "# Print training history\n",
        "print(\"\\nTraining History:\")\n",
        "for epoch in range(len(history.history['loss'])):  # Use actual number of completed epochs\n",
        "    print(f\"Epoch {epoch+1}/{len(history.history['loss'])}:\")\n",
        "    print(f\"  Training Loss: {history.history['loss'][epoch]:.4f}\")\n",
        "    print(f\"  Training Accuracy: {history.history['accuracy'][epoch]:.4f}\")\n",
        "    print(f\"  Validation Loss: {history.history['val_loss'][epoch]:.4f}\")\n",
        "    print(f\"  Validation Accuracy: {history.history['val_accuracy'][epoch]:.4f}\")\n"
      ],
      "metadata": {
        "colab": {
          "base_uri": "https://localhost:8080/"
        },
        "id": "GZEy9S2P1QMn",
        "outputId": "14396a30-17cb-484c-dd98-0958601236c0"
      },
      "execution_count": 10,
      "outputs": [
        {
          "output_type": "stream",
          "name": "stdout",
          "text": [
            "\n",
            "Training History:\n",
            "Epoch 1/5:\n",
            "  Training Loss: 0.7611\n",
            "  Training Accuracy: 0.5244\n",
            "  Validation Loss: 0.7059\n",
            "  Validation Accuracy: 0.5080\n",
            "Epoch 2/5:\n",
            "  Training Loss: 0.6096\n",
            "  Training Accuracy: 0.6708\n",
            "  Validation Loss: 0.8923\n",
            "  Validation Accuracy: 0.5368\n",
            "Epoch 3/5:\n",
            "  Training Loss: 0.5127\n",
            "  Training Accuracy: 0.7516\n",
            "  Validation Loss: 0.6549\n",
            "  Validation Accuracy: 0.6678\n",
            "Epoch 4/5:\n",
            "  Training Loss: 0.5573\n",
            "  Training Accuracy: 0.7152\n",
            "  Validation Loss: 0.6381\n",
            "  Validation Accuracy: 0.6656\n",
            "Epoch 5/5:\n",
            "  Training Loss: 0.4204\n",
            "  Training Accuracy: 0.8143\n",
            "  Validation Loss: 0.6711\n",
            "  Validation Accuracy: 0.7226\n"
          ]
        }
      ]
    },
    {
      "cell_type": "code",
      "source": [
        "# Evaluate on test set\n",
        "print(\"\\n\" + \"=\"*50)\n",
        "print(\"TESTING ON TEST SET\")\n",
        "print(\"=\"*50)\n",
        "test_loss, test_accuracy = model.evaluate(x_test, y_test, verbose=1)\n",
        "print(f\"Test accuracy: {test_accuracy:.4f}\")\n",
        "print(f\"Test loss: {test_loss:.4f}\")\n",
        "\n",
        "# Generate predictions on test set\n",
        "print(\"\\nGenerating predictions on test set...\")\n",
        "y_pred_prob = model.predict(x_test, verbose=1)\n",
        "y_pred = (y_pred_prob > 0.5).astype(int).flatten()\n",
        "\n",
        "# Calculate detailed metrics on test set\n",
        "print(\"\\nTest Set Classification Report:\")\n",
        "report = classification_report(y_test, y_pred)\n",
        "print(report)"
      ],
      "metadata": {
        "colab": {
          "base_uri": "https://localhost:8080/"
        },
        "id": "Djsiqnqe1V7a",
        "outputId": "26473d06-627d-4b0d-9400-88570e1295fb"
      },
      "execution_count": 11,
      "outputs": [
        {
          "output_type": "stream",
          "name": "stdout",
          "text": [
            "\n",
            "==================================================\n",
            "TESTING ON TEST SET\n",
            "==================================================\n",
            "\u001b[1m782/782\u001b[0m \u001b[32m━━━━━━━━━━━━━━━━━━━━\u001b[0m\u001b[37m\u001b[0m \u001b[1m47s\u001b[0m 61ms/step - accuracy: 0.7219 - loss: 0.6621\n",
            "Test accuracy: 0.7232\n",
            "Test loss: 0.6594\n",
            "\n",
            "Generating predictions on test set...\n",
            "\u001b[1m782/782\u001b[0m \u001b[32m━━━━━━━━━━━━━━━━━━━━\u001b[0m\u001b[37m\u001b[0m \u001b[1m47s\u001b[0m 60ms/step\n",
            "\n",
            "Test Set Classification Report:\n",
            "              precision    recall  f1-score   support\n",
            "\n",
            "           0       0.82      0.58      0.68     12500\n",
            "           1       0.67      0.87      0.76     12500\n",
            "\n",
            "    accuracy                           0.72     25000\n",
            "   macro avg       0.74      0.72      0.72     25000\n",
            "weighted avg       0.74      0.72      0.72     25000\n",
            "\n"
          ]
        }
      ]
    },
    {
      "cell_type": "code",
      "source": [
        "# Print confusion matrix for test set\n",
        "cm = confusion_matrix(y_test, y_pred)\n",
        "print(\"\\nConfusion Matrix (Test Set):\")\n",
        "print(f\"                | Predicted Negative | Predicted Positive |\")\n",
        "print(f\"Actual Negative | {cm[0][0]:<18} | {cm[0][1]:<18} |\")\n",
        "print(f\"Actual Positive | {cm[1][0]:<18} | {cm[1][1]:<18} |\")"
      ],
      "metadata": {
        "colab": {
          "base_uri": "https://localhost:8080/"
        },
        "id": "zvVd7HE51WyW",
        "outputId": "2482d43d-5497-4e90-b4d3-6664bbffd44e"
      },
      "execution_count": 12,
      "outputs": [
        {
          "output_type": "stream",
          "name": "stdout",
          "text": [
            "\n",
            "Confusion Matrix (Test Set):\n",
            "                | Predicted Negative | Predicted Positive |\n",
            "Actual Negative | 7188               | 5312               |\n",
            "Actual Positive | 1608               | 10892              |\n"
          ]
        }
      ]
    },
    {
      "cell_type": "code",
      "source": [
        "# Display sample test set predictions\n",
        "print(\"\\nSample Test Set Predictions:\")\n",
        "for i in range(5):\n",
        "    review = decode_review(x_test[i])\n",
        "    prediction = \"Positive\" if y_pred[i] == 1 else \"Negative\"\n",
        "    actual = \"Positive\" if y_test[i] == 1 else \"Negative\"\n",
        "    confidence = y_pred_prob[i][0]\n",
        "    print(\"-\" * 80)\n",
        "    print(f\"Review: {review[:100]}...\")\n",
        "    print(f\"Predicted: {prediction} (confidence: {confidence:.4f}), Actual: {actual}\")\n",
        "\n",
        "# Calculate additional metrics\n",
        "accuracy = accuracy_score(y_test, y_pred)\n",
        "report_dict = classification_report(y_test, y_pred, output_dict=True)\n",
        "precision = report_dict['weighted avg']['precision']\n",
        "recall = report_dict['weighted avg']['recall']\n",
        "f1 = report_dict['weighted avg']['f1-score']"
      ],
      "metadata": {
        "colab": {
          "base_uri": "https://localhost:8080/"
        },
        "id": "Q6FVjOB61eDl",
        "outputId": "ef84c53e-aded-47c7-d41c-aca23e36d37c"
      },
      "execution_count": 13,
      "outputs": [
        {
          "output_type": "stream",
          "name": "stdout",
          "text": [
            "\n",
            "Sample Test Set Predictions:\n",
            "--------------------------------------------------------------------------------\n",
            "Review: ? please give this one a miss br br ? ? and the rest of the cast rendered terrible performances the ...\n",
            "Predicted: Negative (confidence: 0.0224), Actual: Negative\n",
            "--------------------------------------------------------------------------------\n",
            "Review: ? this film requires a lot of patience because it focuses on mood and character development the plot...\n",
            "Predicted: Positive (confidence: 0.9413), Actual: Positive\n",
            "--------------------------------------------------------------------------------\n",
            "Review: ? many animation buffs consider ? ? the great forgotten genius of one special branch of the art pupp...\n",
            "Predicted: Positive (confidence: 0.6665), Actual: Positive\n",
            "--------------------------------------------------------------------------------\n",
            "Review: ? i generally love this type of movie however this time i found myself wanting to kick the screen si...\n",
            "Predicted: Positive (confidence: 0.9831), Actual: Negative\n",
            "--------------------------------------------------------------------------------\n",
            "Review: ? like some other people wrote i'm a die hard mario fan and i loved this game br br this game starts...\n",
            "Predicted: Positive (confidence: 0.9069), Actual: Positive\n"
          ]
        }
      ]
    },
    {
      "cell_type": "code",
      "source": [
        "# Summary of test results\n",
        "print(\"\\n\" + \"=\"*50)\n",
        "print(\"TEST SET SUMMARY\")\n",
        "print(\"=\"*50)\n",
        "print(f\"Total test samples: {len(y_test)}\")\n",
        "print(f\"Correct predictions: {sum(y_pred == y_test)}\")\n",
        "print(f\"Incorrect predictions: {sum(y_pred != y_test)}\")\n",
        "print(f\"Accuracy: {accuracy:.4f}\")\n",
        "print(f\"Precision: {precision:.4f}\")\n",
        "print(f\"Recall: {recall:.4f}\")\n",
        "print(f\"F1-Score: {f1:.4f}\")\n",
        "\n",
        "# Class-specific metrics\n",
        "print(\"\\nClass-specific metrics:\")\n",
        "print(\"Negative reviews:\")\n",
        "print(f\"  Precision: {report_dict['0']['precision']:.4f}\")\n",
        "print(f\"  Recall: {report_dict['0']['recall']:.4f}\")\n",
        "print(f\"  F1-Score: {report_dict['0']['f1-score']:.4f}\")\n",
        "\n",
        "print(\"Positive reviews:\")\n",
        "print(f\"  Precision: {report_dict['1']['precision']:.4f}\")\n",
        "print(f\"  Recall: {report_dict['1']['recall']:.4f}\")\n",
        "print(f\"  F1-Score: {report_dict['1']['f1-score']:.4f}\")\n",
        "\n",
        "print(\"\\nDone!\")"
      ],
      "metadata": {
        "colab": {
          "base_uri": "https://localhost:8080/"
        },
        "id": "_slMXUZU1fD6",
        "outputId": "bbec8c06-e179-4ecd-88d8-f16d8830773e"
      },
      "execution_count": 14,
      "outputs": [
        {
          "output_type": "stream",
          "name": "stdout",
          "text": [
            "\n",
            "==================================================\n",
            "TEST SET SUMMARY\n",
            "==================================================\n",
            "Total test samples: 25000\n",
            "Correct predictions: 18080\n",
            "Incorrect predictions: 6920\n",
            "Accuracy: 0.7232\n",
            "Precision: 0.7447\n",
            "Recall: 0.7232\n",
            "F1-Score: 0.7170\n",
            "\n",
            "Class-specific metrics:\n",
            "Negative reviews:\n",
            "  Precision: 0.8172\n",
            "  Recall: 0.5750\n",
            "  F1-Score: 0.6751\n",
            "Positive reviews:\n",
            "  Precision: 0.6722\n",
            "  Recall: 0.8714\n",
            "  F1-Score: 0.7589\n",
            "\n",
            "Done!\n"
          ]
        }
      ]
    }
  ]
}