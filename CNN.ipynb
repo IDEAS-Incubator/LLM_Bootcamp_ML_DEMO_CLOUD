{
  "nbformat": 4,
  "nbformat_minor": 0,
  "metadata": {
    "colab": {
      "provenance": [],
      "toc_visible": true,
      "gpuType": "T4"
    },
    "kernelspec": {
      "name": "python3",
      "display_name": "Python 3"
    },
    "language_info": {
      "name": "python"
    },
    "accelerator": "GPU"
  },
  "cells": [
    {
      "cell_type": "markdown",
      "source": [
        "## CNN DEMO\n",
        "\n",
        "Run the colab Demo :  [![Open In Colab](https://colab.research.google.com/assets/colab-badge.svg)](https://colab.research.google.com/drive/17KfR9lqGrjhCnYOd-jd1ljEKcy0Y8efW?usp=sharing)\n"
      ],
      "metadata": {
        "id": "kKeTDT-Tx2rx"
      }
    },
    {
      "cell_type": "code",
      "source": [
        "!pip install -q numpy tensorflow scikit-learn\n"
      ],
      "metadata": {
        "id": "HVSfbxjd80eC"
      },
      "execution_count": null,
      "outputs": []
    },
    {
      "cell_type": "code",
      "source": [
        "import numpy as np\n",
        "import tensorflow as tf\n",
        "from tensorflow.keras.preprocessing.text import Tokenizer\n",
        "from tensorflow.keras.preprocessing.sequence import pad_sequences\n",
        "from tensorflow.keras.layers import Embedding, Conv1D, GlobalMaxPooling1D, Dense, Dropout\n",
        "from tensorflow.keras.models import Sequential\n",
        "from sklearn.model_selection import train_test_split\n",
        "from sklearn.metrics import classification_report, accuracy_score, confusion_matrix\n",
        "from sklearn.datasets import fetch_20newsgroups"
      ],
      "metadata": {
        "id": "k_MqHdngng6h"
      },
      "execution_count": null,
      "outputs": []
    },
    {
      "cell_type": "markdown",
      "source": [
        "## Load Dataset"
      ],
      "metadata": {
        "id": "BwziljU1yLGa"
      }
    },
    {
      "cell_type": "code",
      "source": [
        "# Load a binary classification dataset\n",
        "categories = ['alt.atheism', 'sci.space']\n",
        "print(\"Loading dataset...\")\n",
        "from sklearn.datasets import fetch_20newsgroups\n",
        "\n",
        "# Load dataset with only the two categories\n",
        "newsgroups = fetch_20newsgroups(\n",
        "    subset='all',\n",
        "    categories=categories,\n",
        "    shuffle=True,\n",
        "    random_state=42\n",
        ")\n",
        "\n"
      ],
      "metadata": {
        "id": "JCG_TLqAnk1h"
      },
      "execution_count": null,
      "outputs": []
    },
    {
      "cell_type": "code",
      "source": [
        "\n",
        "# Now split into train and test\n",
        "from sklearn.model_selection import train_test_split\n",
        "\n",
        "X_train, X_test, y_train, y_test = train_test_split(\n",
        "    newsgroups.data,\n",
        "    newsgroups.target,\n",
        "    test_size=0.2,\n",
        "    random_state=42,\n",
        ")\n",
        "\n",
        "print(f\"Training samples: {len(X_train)}\")\n",
        "print(f\"Test samples: {len(X_test)}\")\n",
        "print(f\"Categories: {categories}\")"
      ],
      "metadata": {
        "id": "coqF4Lornvdo"
      },
      "execution_count": null,
      "outputs": []
    },
    {
      "cell_type": "code",
      "source": [
        "# Better text preprocessing\n",
        "print(\"Preprocessing text data...\")\n",
        "max_words = 10000  # Increased vocabulary size\n",
        "max_length = 150   # Increased sequence length\n",
        "\n",
        "# Tokenize the text\n",
        "tokenizer = Tokenizer(num_words=max_words)\n",
        "tokenizer.fit_on_texts(X_train)"
      ],
      "metadata": {
        "id": "e-Kq1UZ2n0L4"
      },
      "execution_count": null,
      "outputs": []
    },
    {
      "cell_type": "code",
      "source": [
        "# Convert text to sequences\n",
        "X_train_seq = tokenizer.texts_to_sequences(X_train)\n",
        "X_test_seq = tokenizer.texts_to_sequences(X_test)\n",
        "\n",
        "# Pad sequences\n",
        "X_train_pad = pad_sequences(X_train_seq, maxlen=max_length, padding='post', truncating='post')\n",
        "X_test_pad = pad_sequences(X_test_seq, maxlen=max_length, padding='post', truncating='post')\n"
      ],
      "metadata": {
        "id": "Ice_7R5mn72N"
      },
      "execution_count": null,
      "outputs": []
    },
    {
      "cell_type": "markdown",
      "source": [
        "## Build a CNN model"
      ],
      "metadata": {
        "id": "NBpEZuI4yXVm"
      }
    },
    {
      "cell_type": "code",
      "source": [
        "# Build a CNN model with slightly more capacity\n",
        "print(\"Building CNN model...\")\n",
        "embedding_dim = 100  # Increased embedding dimension\n",
        "\n",
        "model = Sequential([\n",
        "    Embedding(max_words, embedding_dim),\n",
        "    Conv1D(128, 5, activation='relu'),  # More filters\n",
        "    GlobalMaxPooling1D(),\n",
        "    Dropout(0.4),  # Increased dropout for better regularization\n",
        "    Dense(64, activation='relu'),  # Added a hidden layer\n",
        "    Dropout(0.3),\n",
        "    Dense(1, activation='sigmoid')\n",
        "])\n",
        "\n",
        "# Compile with reduced learning rate for better convergence\n",
        "optimizer = tf.keras.optimizers.Adam(learning_rate=0.0005)\n",
        "model.compile(\n",
        "    optimizer=optimizer,\n",
        "    loss='binary_crossentropy',\n",
        "    metrics=['accuracy']\n",
        ")\n",
        "\n",
        "# Display model summary\n",
        "model.summary()"
      ],
      "metadata": {
        "id": "-tD-SipeoE0e"
      },
      "execution_count": null,
      "outputs": []
    },
    {
      "cell_type": "code",
      "source": [
        "# Train the model for more epochs\n",
        "print(\"Training model...\")\n",
        "model.fit(\n",
        "    X_train_pad, y_train,\n",
        "    epochs=10,  # Increased epochs for better training\n",
        "    batch_size=32,  # Smaller batch size for better generalization\n",
        "    verbose=1\n",
        ")"
      ],
      "metadata": {
        "id": "_YTlM8S1oGfQ"
      },
      "execution_count": null,
      "outputs": []
    },
    {
      "cell_type": "code",
      "source": [
        "# Evaluate and predict on test data\n",
        "print(\"\\n--- Test Data Evaluation ---\")\n",
        "loss, accuracy = model.evaluate(X_test_pad, y_test, verbose=0)\n",
        "print(f\"Test Loss: {loss:.4f}\")\n",
        "print(f\"Test Accuracy: {accuracy:.4f}\")"
      ],
      "metadata": {
        "id": "g6NLrvk8oUkr"
      },
      "execution_count": null,
      "outputs": []
    },
    {
      "cell_type": "code",
      "source": [
        "# Make predictions on test data\n",
        "y_pred_prob = model.predict(X_test_pad, verbose=0)\n",
        "y_pred = (y_pred_prob > 0.5).astype(int).flatten()\n",
        "\n",
        "# Print full evaluation metrics\n",
        "print(\"\\nConfusion Matrix:\")\n",
        "cm = confusion_matrix(y_test, y_pred)\n",
        "print(cm)\n",
        "\n",
        "print(\"\\nClassification Report:\")\n",
        "report = classification_report(y_test, y_pred, target_names=[\"Class 0\", \"Class 1\"])\n",
        "print(report)\n"
      ],
      "metadata": {
        "id": "fPYfX1CnoYrU"
      },
      "execution_count": null,
      "outputs": []
    },
    {
      "cell_type": "code",
      "source": [
        "# Display some sample predictions\n",
        "print(\"\\n--- Sample Test Predictions ---\")\n",
        "for i in range(5):\n",
        "    # Get a sample from test data\n",
        "    sample_text = X_test[i][:100] + \"...\"  # Truncate for display\n",
        "    true_label = categories[y_test[i]]\n",
        "    pred_label = categories[y_pred[i]]\n",
        "    confidence = y_pred_prob[i][0] if y_pred[i] == 1 else 1 - y_pred_prob[i][0]\n",
        "\n",
        "    print(f\"Sample {i+1}:\")\n",
        "    print(f\"Text: {sample_text}\")\n",
        "    print(f\"True label: {true_label}\")\n",
        "    print(f\"Predicted label: {pred_label} (confidence: {confidence:.2f})\")\n",
        "    print(f\"Correct prediction: {y_test[i] == y_pred[i]}\")\n",
        "    print(\"-\" * 50)"
      ],
      "metadata": {
        "id": "nJHKx0WyodX9"
      },
      "execution_count": null,
      "outputs": []
    },
    {
      "cell_type": "code",
      "source": [],
      "metadata": {
        "id": "KKEc_OeR9vkK"
      },
      "execution_count": null,
      "outputs": []
    }
  ]
}